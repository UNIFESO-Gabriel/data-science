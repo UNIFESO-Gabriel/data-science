{
 "cells": [
  {
   "cell_type": "code",
   "execution_count": 275,
   "metadata": {},
   "outputs": [],
   "source": [
    "import numpy as np\n",
    "import pandas as pd\n",
    "import matplotlib.pyplot as plt\n",
    "from sklearn.cluster import DBSCAN, KMeans\n",
    "from sklearn.preprocessing import LabelEncoder, StandardScaler\n",
    "\n",
    "df_games = pd.read_csv(\"../dados/game-sales-kaggle/game_sales.csv\", sep=',')"
   ]
  },
  {
   "cell_type": "code",
   "execution_count": 276,
   "metadata": {},
   "outputs": [],
   "source": [
    "df_games[\"Year\"] = df_games[\"Year\"].fillna(df_games[\"Year\"].mean())\n",
    "df_games[\"Year\"] = df_games[\"Year\"].astype(int)"
   ]
  },
  {
   "cell_type": "code",
   "execution_count": 277,
   "metadata": {},
   "outputs": [],
   "source": [
    "lbl_encoder = LabelEncoder()\n",
    "\n",
    "for col in (\"Platform\", \"Genre\", \"Publisher\"):\n",
    "    df_games[f\"{col}_encoded\"] = lbl_encoder.fit_transform(df_games[col])"
   ]
  },
  {
   "cell_type": "code",
   "execution_count": 278,
   "metadata": {},
   "outputs": [
    {
     "data": {
      "text/html": [
       "<div>\n",
       "<style scoped>\n",
       "    .dataframe tbody tr th:only-of-type {\n",
       "        vertical-align: middle;\n",
       "    }\n",
       "\n",
       "    .dataframe tbody tr th {\n",
       "        vertical-align: top;\n",
       "    }\n",
       "\n",
       "    .dataframe thead th {\n",
       "        text-align: right;\n",
       "    }\n",
       "</style>\n",
       "<table border=\"1\" class=\"dataframe\">\n",
       "  <thead>\n",
       "    <tr style=\"text-align: right;\">\n",
       "      <th></th>\n",
       "      <th>0</th>\n",
       "      <th>1</th>\n",
       "      <th>2</th>\n",
       "      <th>3</th>\n",
       "      <th>4</th>\n",
       "      <th>5</th>\n",
       "      <th>6</th>\n",
       "    </tr>\n",
       "  </thead>\n",
       "  <tbody>\n",
       "    <tr>\n",
       "      <th>0</th>\n",
       "      <td>50.480508</td>\n",
       "      <td>57.136930</td>\n",
       "      <td>11.938058</td>\n",
       "      <td>44.606085</td>\n",
       "      <td>1.215677</td>\n",
       "      <td>1.348221</td>\n",
       "      <td>0.361616</td>\n",
       "    </tr>\n",
       "    <tr>\n",
       "      <th>1</th>\n",
       "      <td>35.284437</td>\n",
       "      <td>6.794188</td>\n",
       "      <td>21.767296</td>\n",
       "      <td>3.828224</td>\n",
       "      <td>-0.571730</td>\n",
       "      <td>-0.246717</td>\n",
       "      <td>0.361616</td>\n",
       "    </tr>\n",
       "    <tr>\n",
       "      <th>2</th>\n",
       "      <td>19.084273</td>\n",
       "      <td>25.197785</td>\n",
       "      <td>12.002724</td>\n",
       "      <td>17.297115</td>\n",
       "      <td>1.215677</td>\n",
       "      <td>0.284929</td>\n",
       "      <td>0.361616</td>\n",
       "    </tr>\n",
       "    <tr>\n",
       "      <th>3</th>\n",
       "      <td>18.961823</td>\n",
       "      <td>21.497277</td>\n",
       "      <td>10.353740</td>\n",
       "      <td>15.441165</td>\n",
       "      <td>1.215677</td>\n",
       "      <td>1.348221</td>\n",
       "      <td>0.361616</td>\n",
       "    </tr>\n",
       "    <tr>\n",
       "      <th>4</th>\n",
       "      <td>13.476053</td>\n",
       "      <td>17.302048</td>\n",
       "      <td>32.792857</td>\n",
       "      <td>5.047848</td>\n",
       "      <td>-1.286693</td>\n",
       "      <td>0.550752</td>\n",
       "      <td>0.361616</td>\n",
       "    </tr>\n",
       "    <tr>\n",
       "      <th>...</th>\n",
       "      <td>...</td>\n",
       "      <td>...</td>\n",
       "      <td>...</td>\n",
       "      <td>...</td>\n",
       "      <td>...</td>\n",
       "      <td>...</td>\n",
       "      <td>...</td>\n",
       "    </tr>\n",
       "    <tr>\n",
       "      <th>16593</th>\n",
       "      <td>-0.311841</td>\n",
       "      <td>-0.290207</td>\n",
       "      <td>-0.251492</td>\n",
       "      <td>-0.254864</td>\n",
       "      <td>-1.167533</td>\n",
       "      <td>-0.246717</td>\n",
       "      <td>-0.143768</td>\n",
       "    </tr>\n",
       "    <tr>\n",
       "      <th>16594</th>\n",
       "      <td>-0.311841</td>\n",
       "      <td>-0.290207</td>\n",
       "      <td>-0.251492</td>\n",
       "      <td>-0.254864</td>\n",
       "      <td>-1.048372</td>\n",
       "      <td>0.816575</td>\n",
       "      <td>-0.300999</td>\n",
       "    </tr>\n",
       "    <tr>\n",
       "      <th>16595</th>\n",
       "      <td>-0.324086</td>\n",
       "      <td>-0.290207</td>\n",
       "      <td>-0.251492</td>\n",
       "      <td>-0.254864</td>\n",
       "      <td>0.024072</td>\n",
       "      <td>0.284929</td>\n",
       "      <td>-1.536382</td>\n",
       "    </tr>\n",
       "    <tr>\n",
       "      <th>16596</th>\n",
       "      <td>-0.324086</td>\n",
       "      <td>-0.270418</td>\n",
       "      <td>-0.251492</td>\n",
       "      <td>-0.254864</td>\n",
       "      <td>-1.405854</td>\n",
       "      <td>0.019106</td>\n",
       "      <td>-1.609382</td>\n",
       "    </tr>\n",
       "    <tr>\n",
       "      <th>16597</th>\n",
       "      <td>-0.311841</td>\n",
       "      <td>-0.290207</td>\n",
       "      <td>-0.251492</td>\n",
       "      <td>-0.254864</td>\n",
       "      <td>-1.167533</td>\n",
       "      <td>-0.246717</td>\n",
       "      <td>1.411692</td>\n",
       "    </tr>\n",
       "  </tbody>\n",
       "</table>\n",
       "<p>16598 rows × 7 columns</p>\n",
       "</div>"
      ],
      "text/plain": [
       "               0          1          2          3         4         5  \\\n",
       "0      50.480508  57.136930  11.938058  44.606085  1.215677  1.348221   \n",
       "1      35.284437   6.794188  21.767296   3.828224 -0.571730 -0.246717   \n",
       "2      19.084273  25.197785  12.002724  17.297115  1.215677  0.284929   \n",
       "3      18.961823  21.497277  10.353740  15.441165  1.215677  1.348221   \n",
       "4      13.476053  17.302048  32.792857   5.047848 -1.286693  0.550752   \n",
       "...          ...        ...        ...        ...       ...       ...   \n",
       "16593  -0.311841  -0.290207  -0.251492  -0.254864 -1.167533 -0.246717   \n",
       "16594  -0.311841  -0.290207  -0.251492  -0.254864 -1.048372  0.816575   \n",
       "16595  -0.324086  -0.290207  -0.251492  -0.254864  0.024072  0.284929   \n",
       "16596  -0.324086  -0.270418  -0.251492  -0.254864 -1.405854  0.019106   \n",
       "16597  -0.311841  -0.290207  -0.251492  -0.254864 -1.167533 -0.246717   \n",
       "\n",
       "              6  \n",
       "0      0.361616  \n",
       "1      0.361616  \n",
       "2      0.361616  \n",
       "3      0.361616  \n",
       "4      0.361616  \n",
       "...         ...  \n",
       "16593 -0.143768  \n",
       "16594 -0.300999  \n",
       "16595 -1.536382  \n",
       "16596 -1.609382  \n",
       "16597  1.411692  \n",
       "\n",
       "[16598 rows x 7 columns]"
      ]
     },
     "execution_count": 278,
     "metadata": {},
     "output_type": "execute_result"
    }
   ],
   "source": [
    "scaler = StandardScaler()\n",
    "\n",
    "df = df_games.iloc[:, -7:]\n",
    "\n",
    "df = scaler.fit_transform(df)\n",
    "df = pd.DataFrame(df)\n",
    "df"
   ]
  },
  {
   "cell_type": "code",
   "execution_count": 279,
   "metadata": {},
   "outputs": [
    {
     "data": {
      "image/png": "[encoded data removed]",
      "text/plain": [
       "<Figure size 800x600 with 1 Axes>"
      ]
     },
     "metadata": {},
     "output_type": "display_data"
    }
   ],
   "source": [
    "inertia = []\n",
    "k_values = []\n",
    "\n",
    "for i in range(1, 11):\n",
    "    kmeans = KMeans(n_clusters=i, n_init='auto')\n",
    "    k_values.append(i)\n",
    "    kmeans.fit(df)\n",
    "    inertia.append(kmeans.inertia_)\n",
    "    \n",
    "plt.figure(figsize=(8, 6))\n",
    "plt.plot(k_values, inertia, marker='o', linestyle='-')\n",
    "plt.title('Curva do cotovelo para o K-Means')\n",
    "plt.xlabel('Número de clusters (k)')\n",
    "plt.ylabel('Soma das distâncias ao quadrado (inércia)')\n",
    "plt.grid(True)\n",
    "plt.show()"
   ]
  },
  {
   "cell_type": "code",
   "execution_count": 280,
   "metadata": {},
   "outputs": [
    {
     "data": {
      "text/plain": [
       "Rotulo\n",
       " 0    16025\n",
       "-1      573\n",
       "Name: count, dtype: int64"
      ]
     },
     "execution_count": 280,
     "metadata": {},
     "output_type": "execute_result"
    }
   ],
   "source": [
    "dbscan = DBSCAN(eps=1, min_samples=8)\n",
    "df[\"Rotulo\"] = dbscan.fit_predict(df)\n",
    "df_games[\"Rotulo\"] = df[\"Rotulo\"]\n",
    "\n",
    "df_games[\"Rotulo\"].value_counts()"
   ]
  },
  {
   "cell_type": "code",
   "execution_count": 281,
   "metadata": {},
   "outputs": [
    {
     "name": "stdout",
     "output_type": "stream",
     "text": [
      "Rótulo 0: Média: 0.35, Std: 0.50\n",
      "Rótulo -1: Média: 5.64, Std: 6.01\n"
     ]
    }
   ],
   "source": [
    "rotulo_maior_ocorrencia = df_games[\"Rotulo\"].value_counts().index[0]\n",
    "df_games[\"Global_Sales\"] = df_games.loc[:, \"NA_Sales\":\"Other_Sales\"].sum(axis=1)\n",
    "\n",
    "media_rotulo_maior_oc = df_games[df_games[\"Rotulo\"] == rotulo_maior_ocorrencia][\"Global_Sales\"].mean()\n",
    "std_rotulo_maior_oc = df_games[df_games[\"Rotulo\"] == rotulo_maior_ocorrencia][\"Global_Sales\"].std()\n",
    "\n",
    "media_anomalia = df_games[df_games[\"Rotulo\"] == -1][\"Global_Sales\"].mean()\n",
    "std_anomalia = df_games[df_games[\"Rotulo\"] == -1][\"Global_Sales\"].std()\n",
    "\n",
    "print(f\"Rótulo {rotulo_maior_ocorrencia}: Média: {media_rotulo_maior_oc:.2f}, Std: {std_rotulo_maior_oc:.2f}\\n\\\n",
    "Rótulo -1: Média: {media_anomalia:.2f}, Std: {std_anomalia:.2f}\")"
   ]
  }
 ],
 "metadata": {
  "kernelspec": {
   "display_name": ".venv",
   "language": "python",
   "name": "python3"
  },
  "language_info": {
   "codemirror_mode": {
    "name": "ipython",
    "version": 3
   },
   "file_extension": ".py",
   "mimetype": "text/x-python",
   "name": "python",
   "nbconvert_exporter": "python",
   "pygments_lexer": "ipython3",
   "version": "3.11.4"
  }
 },
 "nbformat": 4,
 "nbformat_minor": 2
}

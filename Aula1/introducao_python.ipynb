{
 "cells": [
  {
   "cell_type": "markdown",
   "metadata": {},
   "source": [
    "### 0. Importação dos pacotes."
   ]
  },
  {
   "cell_type": "code",
   "execution_count": null,
   "metadata": {},
   "outputs": [],
   "source": [
    "import random\n",
    "import numpy as np\n",
    "import pandas as pd"
   ]
  },
  {
   "cell_type": "markdown",
   "metadata": {},
   "source": [
    "### 1. Variáveis e tipos."
   ]
  },
  {
   "cell_type": "code",
   "execution_count": null,
   "metadata": {},
   "outputs": [],
   "source": [
    "idade: int = 30\n",
    "nome: str = \"Jhon Doe\"\n",
    "quantia: float = 150.35\n",
    "\n",
    "print(nome, idade, quantia)\n",
    "\n",
    "# string embedding.\n",
    "print(f\"\\nNome: {nome}\\nIdade: {idade}\\nQuantia: {quantia}\")"
   ]
  },
  {
   "cell_type": "markdown",
   "metadata": {},
   "source": [
    "### 2. Principais Estruturas de Dados (Listas x Tuplas)."
   ]
  },
  {
   "cell_type": "code",
   "execution_count": null,
   "metadata": {},
   "outputs": [],
   "source": [
    "lista_informacoes: list = [nome, idade, quantia]\n",
    "tupla_informacoes: tuple = (nome, idade, quantia)\n",
    "\n",
    "print(lista_informacoes)\n",
    "print(tupla_informacoes)\n",
    "\n",
    "lista_informacoes[0] = \"Mary Doe\"\n",
    "print(lista_informacoes)\n",
    "\n",
    "tupla_informacoes[0] = \"Mary Doe\" # erro\n",
    "print(tupla_informacoes)"
   ]
  },
  {
   "cell_type": "markdown",
   "metadata": {},
   "source": [
    "### 3. Principais Operações com Listas"
   ]
  },
  {
   "cell_type": "code",
   "execution_count": null,
   "metadata": {},
   "outputs": [],
   "source": [
    "\n",
    "QTD_NUMEROS = 20\n",
    "\n",
    "# for loop\n",
    "lista_numerica_normal = []\n",
    "for i in range(QTD_NUMEROS + 1):\n",
    "    lista_numerica_normal.append(i)\n",
    "\n",
    "# list comprehension\n",
    "lista_numerica_comprehension = [i for i in range(QTD_NUMEROS + 1)]\n",
    "\n",
    "print(lista_numerica_normal)\n",
    "print(lista_numerica_comprehension)\n",
    "\n",
    "# invertendo a lista\n",
    "lista_numerica_comprehension.reverse()\n",
    "print(lista_numerica_comprehension)\n",
    "\n",
    "# indexação (slicing)\n",
    "print(f\"\\nPrimeiro elemento: {lista_numerica_comprehension[0]}\\nÚltimo elemento: {lista_numerica_comprehension[-1]}\")\n",
    "print(f\"\\nApenas pares: {lista_numerica_comprehension[0 : -1 : 2]}\")\n",
    "print(f\"Apenas ímpares: {lista_numerica_comprehension[1 : -1 : 2]}\")\n",
    "\n",
    "# função 'map' (elevando ao quadrado)\n",
    "lista_quadrados = list(map(lambda numero: numero ** 2, lista_numerica_comprehension))\n",
    "print(f\"\\nLista de quadrados: {lista_quadrados}\")\n",
    "\n",
    "# função 'map' (elevando ao quadrado)\n",
    "media_lista_quadrados = sum(lista_quadrados) / len(lista_quadrados)\n",
    "print(f\"\\nMédia da lista de quadrados: {media_lista_quadrados:.3f}\")\n",
    "\n",
    "random.shuffle(lista_quadrados)\n",
    "print(lista_quadrados)\n",
    "\n",
    "print(f\"\\nÍndice correspondente ao maior valor: {np.array(lista_quadrados).argmax()}\")\n",
    "print(f\"Índice correspondente ao menor valor: {np.array(lista_quadrados).argmin()}\\n\")\n",
    "\n",
    "# inserindo um elemento em um índice específico\n",
    "lista_numerica_comprehension.insert(0, 0)\n",
    "lista_numerica_comprehension.insert(2, 1)\n",
    "\n",
    "print(lista_numerica_comprehension)\n",
    "\n",
    "# removendo o último elemento da lista\n",
    "lista_numerica_comprehension.pop()\n",
    "print(lista_numerica_comprehension)\n",
    "\n",
    "# removendo um elemento da lista a partir do índice\n",
    "lista_numerica_comprehension.remove(10)\n",
    "print(lista_numerica_comprehension)\n"
   ]
  },
  {
   "cell_type": "markdown",
   "metadata": {},
   "source": [
    "### 4. Principais Estruturas de Dados (Dicionários)"
   ]
  },
  {
   "cell_type": "code",
   "execution_count": null,
   "metadata": {},
   "outputs": [],
   "source": [
    "lista_paises   = [\"Brasil\", \"França\", \"Alemanha\", \"Rússia\"]\n",
    "lista_capitais = [\"Brasília\", \"Paris\", \"Berlin\", \"Moscou\"]\n",
    "\n",
    "# utilizando a função zip para criar o dicionário\n",
    "dict_paises_capitais = dict(zip(lista_paises, lista_capitais))\n",
    "\n",
    "# exibindo as chaves:\n",
    "print(list(dict_paises_capitais.keys()))\n",
    "\n",
    "# exibindo os valores:\n",
    "print(list(dict_paises_capitais.values()))\n",
    "\n",
    "# exibindo um valor\n",
    "print(f\"\\nA capital da França é: {dict_paises_capitais['França']}\\n\")\n",
    "\n",
    "# exibindo o dicionário:\n",
    "for chave, valor in dict_paises_capitais.items():\n",
    "    print(f\"País: {chave}, Capital: {valor}\")\n",
    "\n"
   ]
  },
  {
   "cell_type": "markdown",
   "metadata": {},
   "source": [
    "### 5. Principais Estruturas de Dados (Conjuntos)"
   ]
  },
  {
   "cell_type": "code",
   "execution_count": null,
   "metadata": {},
   "outputs": [],
   "source": [
    "TERMO_FIB = 12\n",
    "\n",
    "def fibonacci(termo: int) -> dict[int, list[int]]:\n",
    "    \"\"\"Retorna o n-ésimo termo da sequência de Fibonacci. \n",
    "\n",
    "    Args:\n",
    "        termo (int): o índice correspondente ao n-ésimo termo da sequência.\n",
    "\n",
    "    Returns:\n",
    "        dict[int, list[int]]: (i) o n-ésimo termo; (ii) a sequência de Fibonacci até n.\n",
    "    \"\"\"\n",
    "    fibonacci = [0, 1]\n",
    "    \n",
    "    if termo == 0 or termo == 1:\n",
    "        return fibonacci[termo], fibonacci\n",
    "    \n",
    "    for _ in range(termo + 1):\n",
    "        soma = fibonacci[-1] + fibonacci[-2]\n",
    "        fibonacci.append(soma)\n",
    "        \n",
    "    return fibonacci[-1], fibonacci\n",
    "\n",
    "\n",
    "# lista de fibonacci.\n",
    "termo, lista_seq_fib = fibonacci(TERMO_FIB)\n",
    "print(termo, lista_seq_fib)\n",
    "\n",
    "# separando a lista em duas partes:\n",
    "\n",
    "lista_fib_p1 = lista_seq_fib[:5]\n",
    "lista_fib_p2 = lista_seq_fib[5:]\n",
    "\n",
    "print()\n",
    "print(lista_fib_p1)\n",
    "print(lista_fib_p2)\n",
    "\n",
    "# transformando as partes em conjuntos.\n",
    "set_fib_p1 = set(lista_fib_p1)\n",
    "set_fib_p2 = set(lista_fib_p2)\n",
    "\n",
    "print()\n",
    "print(set_fib_p1)\n",
    "print(set_fib_p2)\n",
    "\n",
    "# adicionando dois elementos no conjunto 2\n",
    "set_fib_p2.add(2)\n",
    "set_fib_p2.add(3)\n",
    "\n",
    "print()\n",
    "\n",
    "# interseção do conjunto 1 com o 2\n",
    "print(set_fib_p1.intersection(set_fib_p2))\n",
    "\n",
    "# diferença do conjunto 1 com o 2\n",
    "print(set_fib_p1 - set_fib_p2)\n",
    "\n",
    "# diferença do conjunto 2 com o 1\n",
    "print(set_fib_p2 - set_fib_p1)\n",
    "\n",
    "# união do conjunto 1 com o 2\n",
    "print(sorted(set_fib_p2.union(set_fib_p1)))\n",
    "\n"
   ]
  },
  {
   "cell_type": "markdown",
   "metadata": {},
   "source": [
    "### 6. Lendo dados a partir do Pandas."
   ]
  },
  {
   "cell_type": "code",
   "execution_count": null,
   "metadata": {},
   "outputs": [],
   "source": [
    "df_titanic_train = pd.read_csv(\"../dados/titanic-kaggle/train.csv\")\n",
    "df_titanic_train"
   ]
  },
  {
   "cell_type": "code",
   "execution_count": null,
   "metadata": {},
   "outputs": [],
   "source": []
  }
 ],
 "metadata": {
  "kernelspec": {
   "display_name": "Python 3",
   "language": "python",
   "name": "python3"
  },
  "language_info": {
   "codemirror_mode": {
    "name": "ipython",
    "version": 3
   },
   "file_extension": ".py",
   "mimetype": "text/x-python",
   "name": "python",
   "nbconvert_exporter": "python",
   "pygments_lexer": "ipython3",
   "version": "3.11.4"
  },
  "orig_nbformat": 4
 },
 "nbformat": 4,
 "nbformat_minor": 2
}

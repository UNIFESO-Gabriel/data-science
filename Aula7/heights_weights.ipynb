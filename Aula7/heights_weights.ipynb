{
 "cells": [
  {
   "cell_type": "code",
   "execution_count": null,
   "metadata": {},
   "outputs": [],
   "source": [
    "import numpy as np\n",
    "import pandas as pd\n",
    "import matplotlib.pyplot as plt\n",
    "from matplotlib.pyplot import figure\n",
    "from scipy.cluster.hierarchy import dendrogram, linkage\n",
    "from sklearn.preprocessing import StandardScaler, MinMaxScaler, LabelEncoder"
   ]
  },
  {
   "cell_type": "code",
   "execution_count": null,
   "metadata": {},
   "outputs": [],
   "source": [
    "df_heights_weights = pd.read_csv(\"../dados/heights-weights-dataset/heights_weights_dataset.csv\", sep=\";\")\n",
    "\n",
    "df_heights_weights[\"Height(m)\"] = df_heights_weights[\"Height(Inches)\"] * 0.0254\n",
    "df_heights_weights[\"Weight(Kg)\"] = df_heights_weights[\"Weight(Pounds)\"] * 0.453592\n",
    "df_heights_weights[\"IMC\"] = df_heights_weights[\"Weight(Kg)\"] / (df_heights_weights[\"Height(m)\"] ** 2)\n",
    "\n",
    "df_heights_weights"
   ]
  },
  {
   "cell_type": "code",
   "execution_count": null,
   "metadata": {},
   "outputs": [],
   "source": [
    "scaler = MinMaxScaler()\n",
    "df_heights_weights[\"IMC_Encoded\"] = scaler.fit_transform(df_heights_weights[\"IMC\"].to_numpy().reshape(-1, 1))\n",
    "\n",
    "lbl_encoder = LabelEncoder()\n",
    "df_heights_weights[\"State_encoded\"] = lbl_encoder.fit_transform(df_heights_weights[\"State\"])\n",
    "df_heights_weights\n"
   ]
  },
  {
   "cell_type": "code",
   "execution_count": null,
   "metadata": {},
   "outputs": [],
   "source": [
    "TAM = 40\n",
    "\n",
    "df = df_heights_weights[[\"IMC\", \"State_encoded\"]]\n",
    "\n",
    "figure(figsize=(18, 6), dpi=80)\n",
    "linkage_data = linkage(df[:TAM], method='ward', metric='euclidean')\n",
    "dendrogram(linkage_data, labels=df_heights_weights[\"State\"][:TAM].values)\n",
    "plt.show()"
   ]
  }
 ],
 "metadata": {
  "kernelspec": {
   "display_name": ".venv",
   "language": "python",
   "name": "python3"
  },
  "language_info": {
   "codemirror_mode": {
    "name": "ipython",
    "version": 3
   },
   "file_extension": ".py",
   "mimetype": "text/x-python",
   "name": "python",
   "nbconvert_exporter": "python",
   "pygments_lexer": "ipython3",
   "version": "3.11.4"
  }
 },
 "nbformat": 4,
 "nbformat_minor": 2
}

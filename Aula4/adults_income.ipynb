{
 "cells": [
  {
   "cell_type": "code",
   "execution_count": 34,
   "metadata": {},
   "outputs": [],
   "source": [
    "import graphviz\n",
    "import numpy as np\n",
    "import pandas as pd\n",
    "import matplotlib.pyplot as plt\n",
    "from sklearn.preprocessing import LabelEncoder\n",
    "from sklearn.ensemble import RandomForestClassifier\n",
    "from sklearn.tree import DecisionTreeClassifier, plot_tree, export_graphviz\n",
    "from sklearn.model_selection import KFold, cross_val_score\n",
    "from sklearn.metrics import confusion_matrix, accuracy_score\n"
   ]
  },
  {
   "cell_type": "code",
   "execution_count": 35,
   "metadata": {},
   "outputs": [],
   "source": [
    "df_income_train = pd.read_csv(\"../dados/adults-income-uci/adult_data.csv\", header=None, sep=',')\n",
    "df_income_test = pd.read_csv(\"../dados/adults-income-uci/adult_test.csv\", header=None, sep = ',')\n",
    "\n",
    "df_income_train.columns = [\"Age\", \"Workclass\",\"FnlWgt\", \"Education\", \"Education_Num\", \"Marital_Status\", \"Occupation\", \"Relationship\", \"Race\", \"Sex\", \"Capital_Gain\", \"Capital_Loss\", \"Hours_per_Week\", \"Country\", \"Earns\"]\n",
    "\n",
    "df_income_test.columns = [\"Age\", \"Workclass\",\"FnlWgt\", \"Education\", \"Education_Num\", \"Marital_Status\", \"Occupation\", \"Relationship\", \"Race\", \"Sex\", \"Capital_Gain\", \"Capital_Loss\", \"Hours_per_Week\", \"Country\", \"Earns\"]\n",
    "\n"
   ]
  },
  {
   "cell_type": "code",
   "execution_count": 36,
   "metadata": {},
   "outputs": [],
   "source": [
    "encoder = LabelEncoder()\n",
    "\n",
    "cat_columns = [\"Workclass\", \"Education\", \"Marital_Status\", \"Occupation\", \"Relationship\", \"Race\", \"Sex\", \"Country\"]\n",
    "\n",
    "for col in cat_columns:\n",
    "    df_income_train[col] = encoder.fit_transform(df_income_train[col])\n",
    "    df_income_test[col]  = encoder.fit_transform(df_income_test[col])\n",
    "\n",
    "df_income_train[\"Earns\"] = df_income_train[\"Earns\"].apply(lambda x: 1 if x.startswith(' >50K') else 0)\n",
    "df_income_test[\"Earns\"] = df_income_test[\"Earns\"].apply(lambda x: 1 if x.startswith(' >50K') else 0)\n",
    "\n",
    "X_train = df_income_train[df_income_train.columns[:-1]]\n",
    "y_train = df_income_train[df_income_train.columns[-1]]\n",
    "X_test = df_income_test[df_income_test.columns[:-1]]\n",
    "y_test = df_income_test[df_income_test.columns[-1]]"
   ]
  },
  {
   "cell_type": "code",
   "execution_count": 37,
   "metadata": {},
   "outputs": [
    {
     "name": "stdout",
     "output_type": "stream",
     "text": [
      "Cross-Validation Scores: [0.8584587  0.85135135 0.84889435 0.83814496 0.85135135 0.85288698\n",
      " 0.85257985 0.85227273 0.85595823 0.84889435]\n",
      "Mean Score: 0.851079285666329\n",
      "Standard Deviation: 0.005120510892602048\n",
      "[[11855   580]\n",
      " [ 1839  2007]]\n",
      "0.8514219028315214\n"
     ]
    }
   ],
   "source": [
    "tree = DecisionTreeClassifier(criterion='gini', max_depth=5)\n",
    "tree.fit(df_income_train[df_income_train.columns[:-1]], df_income_train[df_income_train.columns[-1]])\n",
    "\n",
    "kf = KFold(n_splits=10, shuffle=True, random_state=42)\n",
    "\n",
    "scores = cross_val_score(tree, X_train, y_train, cv=kf)\n",
    "\n",
    "print(\"Cross-Validation Scores:\", scores)\n",
    "print(\"Mean Score:\", scores.mean())\n",
    "print(\"Standard Deviation:\", scores.std())\n",
    "\n",
    "dot_data = export_graphviz(tree, out_file=None, \n",
    "                           feature_names=df_income_train.columns[:-1], \n",
    "                           class_names=['<=50K', '>50K'],  # Replace with your class labels\n",
    "                           filled=True, rounded=True)\n",
    "\n",
    "graph = graphviz.Source(dot_data)\n",
    "graph.render(\"decision_tree\")\n",
    "graph.view() \n",
    "\n",
    "print(confusion_matrix(y_test, tree.predict(X_test)))\n",
    "print(accuracy_score(y_test, tree.predict(X_test)))"
   ]
  },
  {
   "cell_type": "code",
   "execution_count": 38,
   "metadata": {},
   "outputs": [
    {
     "name": "stdout",
     "output_type": "stream",
     "text": [
      "[[11605   830]\n",
      " [ 1521  2325]]\n",
      "0.8555985504575886\n"
     ]
    }
   ],
   "source": [
    "ensemble = RandomForestClassifier()\n",
    "\n",
    "ensemble.fit(X_train, y_train)\n",
    "\n",
    "print(confusion_matrix(y_test, ensemble.predict(X_test)))\n",
    "print(accuracy_score(y_test, ensemble.predict(X_test)))"
   ]
  }
 ],
 "metadata": {
  "kernelspec": {
   "display_name": ".venv",
   "language": "python",
   "name": "python3"
  },
  "language_info": {
   "codemirror_mode": {
    "name": "ipython",
    "version": 3
   },
   "file_extension": ".py",
   "mimetype": "text/x-python",
   "name": "python",
   "nbconvert_exporter": "python",
   "pygments_lexer": "ipython3",
   "version": "3.11.4"
  },
  "orig_nbformat": 4
 },
 "nbformat": 4,
 "nbformat_minor": 2
}

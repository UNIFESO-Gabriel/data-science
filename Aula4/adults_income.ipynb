{
 "cells": [
  {
   "cell_type": "code",
   "execution_count": 1,
   "metadata": {},
   "outputs": [],
   "source": [
    "import graphviz\n",
    "import numpy as np\n",
    "import pandas as pd\n",
    "import matplotlib.pyplot as plt\n",
    "from sklearn.model_selection import KFold\n",
    "from sklearn.preprocessing import LabelEncoder\n",
    "from sklearn.ensemble import RandomForestClassifier\n",
    "from sklearn.tree import DecisionTreeClassifier, plot_tree, export_graphviz\n",
    "from sklearn.metrics import confusion_matrix, accuracy_score, auc, roc_curve\n"
   ]
  },
  {
   "cell_type": "code",
   "execution_count": 2,
   "metadata": {},
   "outputs": [],
   "source": [
    "df_income_train = pd.read_csv(\"../dados/adults-income-uci/adult_data.csv\", header=None, sep=',')\n",
    "df_income_test = pd.read_csv(\"../dados/adults-income-uci/adult_test.csv\", header=None, sep = ',')\n",
    "\n",
    "df_income_train.columns = [\"Age\", \"Workclass\",\"FnlWgt\", \"Education\", \"Education_Num\", \"Marital_Status\", \"Occupation\", \"Relationship\", \"Race\", \"Sex\", \"Capital_Gain\", \"Capital_Loss\", \"Hours_per_Week\", \"Country\", \"Earns\"]\n",
    "\n",
    "df_income_test.columns = [\"Age\", \"Workclass\",\"FnlWgt\", \"Education\", \"Education_Num\", \"Marital_Status\", \"Occupation\", \"Relationship\", \"Race\", \"Sex\", \"Capital_Gain\", \"Capital_Loss\", \"Hours_per_Week\", \"Country\", \"Earns\"]\n",
    "\n"
   ]
  },
  {
   "cell_type": "code",
   "execution_count": 3,
   "metadata": {},
   "outputs": [],
   "source": [
    "encoder = LabelEncoder()\n",
    "\n",
    "cat_columns = [\"Workclass\", \"Education\", \"Marital_Status\", \"Occupation\", \"Relationship\", \"Race\", \"Sex\", \"Country\"]\n",
    "\n",
    "for col in cat_columns:\n",
    "    df_income_train[col] = encoder.fit_transform(df_income_train[col])\n",
    "    df_income_test[col]  = encoder.fit_transform(df_income_test[col])\n",
    "\n",
    "df_income_train[\"Earns\"] = df_income_train[\"Earns\"].apply(lambda x: 1 if x.startswith(' >50K') else 0)\n",
    "df_income_test[\"Earns\"] = df_income_test[\"Earns\"].apply(lambda x: 1 if x.startswith(' >50K') else 0)\n",
    "\n",
    "X_train = df_income_train[df_income_train.columns[:-1]]\n",
    "y_train = df_income_train[df_income_train.columns[-1]]\n",
    "X_test = df_income_test[df_income_test.columns[:-1]]\n",
    "y_test = df_income_test[df_income_test.columns[-1]]"
   ]
  },
  {
   "cell_type": "code",
   "execution_count": 4,
   "metadata": {},
   "outputs": [
    {
     "name": "stdout",
     "output_type": "stream",
     "text": [
      "Fold 1: 0.8584587043291373\n",
      "None\n",
      "Fold 2: 0.8513513513513513\n",
      "None\n",
      "Fold 3: 0.8488943488943489\n",
      "None\n",
      "Fold 4: 0.8381449631449631\n",
      "None\n",
      "Fold 5: 0.8513513513513513\n",
      "None\n",
      "Fold 6: 0.8525798525798526\n",
      "None\n",
      "Fold 7: 0.8522727272727273\n",
      "None\n",
      "Fold 8: 0.8522727272727273\n",
      "None\n",
      "Fold 9: 0.855958230958231\n",
      "None\n",
      "Fold 10: 0.8482800982800983\n",
      "None\n",
      "Mean and std of accuracies: 0.8509564355434789 - 0.005130920477991151\n",
      "[[11856   579]\n",
      " [ 1916  1930]]\n",
      "0.8467538848965052\n",
      "[3.46486680e-02 3.31877883e-04 1.23930686e-03 0.00000000e+00\n",
      " 2.28523818e-01 0.00000000e+00 4.01301366e-03 4.63028659e-01\n",
      " 0.00000000e+00 0.00000000e+00 2.33899221e-01 2.25454570e-02\n",
      " 1.17699782e-02 0.00000000e+00]\n"
     ]
    }
   ],
   "source": [
    "tree = DecisionTreeClassifier(criterion='gini', max_depth=5)\n",
    "acc = []\n",
    "\n",
    "kf = KFold(n_splits=10, shuffle=True, random_state=42)   \n",
    "\n",
    "for i, (train_index, test_index) in enumerate(kf.split(df_income_train)):\n",
    "    \n",
    "    tree.fit(df_income_train.iloc[train_index, :-1], df_income_train.iloc[train_index, -1])\n",
    "    y_pred = tree.predict(df_income_train.iloc[test_index, :-1])\n",
    "    y_true = df_income_train.iloc[test_index, -1]\n",
    "    accuracy = accuracy_score(y_true, y_pred)\n",
    "    print(print(f\"Fold {i+1}: {accuracy}\"))\n",
    "    acc.append(accuracy)\n",
    "    \n",
    "print(f\"Mean and std of accuracies: {np.array(acc).mean()} - {np.array(acc).std()}\")\n",
    "\n",
    "dot_data = export_graphviz(tree, out_file=None, \n",
    "                           feature_names=df_income_train.columns[:-1], \n",
    "                           class_names=['<=50K', '>50K'],  # Replace with your class labels\n",
    "                           filled=True, rounded=True)\n",
    "\n",
    "graph = graphviz.Source(dot_data)\n",
    "graph.render(\"decision_tree\")\n",
    "graph.view() \n",
    "\n",
    "print(confusion_matrix(y_test, tree.predict(X_test)))\n",
    "print(accuracy_score(y_test, tree.predict(X_test)))\n",
    "\n",
    "print(tree.feature_importances_)"
   ]
  },
  {
   "cell_type": "code",
   "execution_count": 5,
   "metadata": {},
   "outputs": [
    {
     "name": "stdout",
     "output_type": "stream",
     "text": [
      "[[11591   844]\n",
      " [ 1526  2320]]\n",
      "0.8544315459738345\n"
     ]
    }
   ],
   "source": [
    "ensemble = RandomForestClassifier()\n",
    "\n",
    "ensemble.fit(X_train, y_train)\n",
    "\n",
    "print(confusion_matrix(y_test, ensemble.predict(X_test)))\n",
    "print(accuracy_score(y_test, ensemble.predict(X_test)))"
   ]
  }
 ],
 "metadata": {
  "kernelspec": {
   "display_name": ".venv",
   "language": "python",
   "name": "python3"
  },
  "language_info": {
   "codemirror_mode": {
    "name": "ipython",
    "version": 3
   },
   "file_extension": ".py",
   "mimetype": "text/x-python",
   "name": "python",
   "nbconvert_exporter": "python",
   "pygments_lexer": "ipython3",
   "version": "3.11.4"
  },
  "orig_nbformat": 4
 },
 "nbformat": 4,
 "nbformat_minor": 2
}
